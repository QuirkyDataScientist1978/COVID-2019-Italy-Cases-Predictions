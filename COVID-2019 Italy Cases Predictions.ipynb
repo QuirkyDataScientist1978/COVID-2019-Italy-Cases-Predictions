{
 "cells": [
  {
   "cell_type": "markdown",
   "metadata": {},
   "source": [
    "# COVID-2019 Italy Cases Predictions Using Logistic Curves and Derivatives\n",
    "## Tudor Gheorghiu, 9th of March, 2020\n",
    "\n",
    "#### This notebook and statistics were inspired by [this paper](https://jmahaffy.sdsu.edu/courses/f07/math636/lectures/epidemics/epidemics.pdf) which explores the idea of predicting epidemic cases using mathematical models. [3blue1brown's newest video](https://www.youtube.com/watch?v=Kas0tIxDvrg) on logistic curves in epidemics also made me interested in trying out various models and try to predict confirmed cases in Italy, which took emergency measures yesterday, 8th of March. I really recommend watching the video before reading this notebook.\n",
    "\n",
    "### Data Sources\n",
    "* [time_series_19-covid-Confirmed.csv](https://www.kaggle.com/sudalairajkumar/novel-corona-virus-2019-dataset)\n",
    "\n",
    "### Tables of Contents:\n",
    "1. Loading data and selecting specific data for China and Italy\n",
    "2. Creating smoothed derivatives of the China cases and integrating them (hopefully, we will observe a logistic curve)\n",
    "3. Finding \"delay\" of Italy cases and plotting the matching derivative curves.\n",
    "4. Create a basic prediction for the Italy cases.\n",
    "5. Results and Predictions\n"
   ]
  },
  {
   "cell_type": "markdown",
   "metadata": {},
   "source": [
    "### 1. Loading data and selecting specific data for China and italy\n",
    "\n",
    "The dataset I am using contains confirmed cases data from 22nd of January, 2020 to 8th of March, 2020. The dataset contains all of the affected countries, but we will only select China and italy."
   ]
  },
  {
   "cell_type": "code",
   "execution_count": 1,
   "metadata": {},
   "outputs": [
    {
     "name": "stdout",
     "output_type": "stream",
     "text": [
      "(255, 51)\n"
     ]
    },
    {
     "data": {
      "text/html": [
       "<div>\n",
       "<style scoped>\n",
       "    .dataframe tbody tr th:only-of-type {\n",
       "        vertical-align: middle;\n",
       "    }\n",
       "\n",
       "    .dataframe tbody tr th {\n",
       "        vertical-align: top;\n",
       "    }\n",
       "\n",
       "    .dataframe thead th {\n",
       "        text-align: right;\n",
       "    }\n",
       "</style>\n",
       "<table border=\"1\" class=\"dataframe\">\n",
       "  <thead>\n",
       "    <tr style=\"text-align: right;\">\n",
       "      <th></th>\n",
       "      <th>Province/State</th>\n",
       "      <th>Country/Region</th>\n",
       "      <th>Lat</th>\n",
       "      <th>Long</th>\n",
       "      <th>1/22/20</th>\n",
       "      <th>1/23/20</th>\n",
       "      <th>1/24/20</th>\n",
       "      <th>1/25/20</th>\n",
       "      <th>1/26/20</th>\n",
       "      <th>1/27/20</th>\n",
       "      <th>...</th>\n",
       "      <th>2/28/20</th>\n",
       "      <th>2/29/20</th>\n",
       "      <th>3/1/20</th>\n",
       "      <th>3/2/20</th>\n",
       "      <th>3/3/20</th>\n",
       "      <th>3/4/20</th>\n",
       "      <th>3/5/20</th>\n",
       "      <th>3/6/20</th>\n",
       "      <th>3/7/20</th>\n",
       "      <th>3/8/20</th>\n",
       "    </tr>\n",
       "  </thead>\n",
       "  <tbody>\n",
       "    <tr>\n",
       "      <th>0</th>\n",
       "      <td>Anhui</td>\n",
       "      <td>Mainland China</td>\n",
       "      <td>31.8257</td>\n",
       "      <td>117.2264</td>\n",
       "      <td>1</td>\n",
       "      <td>9</td>\n",
       "      <td>15</td>\n",
       "      <td>39</td>\n",
       "      <td>60</td>\n",
       "      <td>70</td>\n",
       "      <td>...</td>\n",
       "      <td>990</td>\n",
       "      <td>990</td>\n",
       "      <td>990</td>\n",
       "      <td>990</td>\n",
       "      <td>990</td>\n",
       "      <td>990</td>\n",
       "      <td>990</td>\n",
       "      <td>990</td>\n",
       "      <td>990</td>\n",
       "      <td>990</td>\n",
       "    </tr>\n",
       "    <tr>\n",
       "      <th>1</th>\n",
       "      <td>Beijing</td>\n",
       "      <td>Mainland China</td>\n",
       "      <td>40.1824</td>\n",
       "      <td>116.4142</td>\n",
       "      <td>14</td>\n",
       "      <td>22</td>\n",
       "      <td>36</td>\n",
       "      <td>41</td>\n",
       "      <td>68</td>\n",
       "      <td>80</td>\n",
       "      <td>...</td>\n",
       "      <td>410</td>\n",
       "      <td>411</td>\n",
       "      <td>413</td>\n",
       "      <td>414</td>\n",
       "      <td>414</td>\n",
       "      <td>418</td>\n",
       "      <td>418</td>\n",
       "      <td>422</td>\n",
       "      <td>426</td>\n",
       "      <td>428</td>\n",
       "    </tr>\n",
       "    <tr>\n",
       "      <th>2</th>\n",
       "      <td>Chongqing</td>\n",
       "      <td>Mainland China</td>\n",
       "      <td>30.0572</td>\n",
       "      <td>107.8740</td>\n",
       "      <td>6</td>\n",
       "      <td>9</td>\n",
       "      <td>27</td>\n",
       "      <td>57</td>\n",
       "      <td>75</td>\n",
       "      <td>110</td>\n",
       "      <td>...</td>\n",
       "      <td>576</td>\n",
       "      <td>576</td>\n",
       "      <td>576</td>\n",
       "      <td>576</td>\n",
       "      <td>576</td>\n",
       "      <td>576</td>\n",
       "      <td>576</td>\n",
       "      <td>576</td>\n",
       "      <td>576</td>\n",
       "      <td>576</td>\n",
       "    </tr>\n",
       "    <tr>\n",
       "      <th>3</th>\n",
       "      <td>Fujian</td>\n",
       "      <td>Mainland China</td>\n",
       "      <td>26.0789</td>\n",
       "      <td>117.9874</td>\n",
       "      <td>1</td>\n",
       "      <td>5</td>\n",
       "      <td>10</td>\n",
       "      <td>18</td>\n",
       "      <td>35</td>\n",
       "      <td>59</td>\n",
       "      <td>...</td>\n",
       "      <td>296</td>\n",
       "      <td>296</td>\n",
       "      <td>296</td>\n",
       "      <td>296</td>\n",
       "      <td>296</td>\n",
       "      <td>296</td>\n",
       "      <td>296</td>\n",
       "      <td>296</td>\n",
       "      <td>296</td>\n",
       "      <td>296</td>\n",
       "    </tr>\n",
       "    <tr>\n",
       "      <th>4</th>\n",
       "      <td>Gansu</td>\n",
       "      <td>Mainland China</td>\n",
       "      <td>36.0611</td>\n",
       "      <td>103.8343</td>\n",
       "      <td>0</td>\n",
       "      <td>2</td>\n",
       "      <td>2</td>\n",
       "      <td>4</td>\n",
       "      <td>7</td>\n",
       "      <td>14</td>\n",
       "      <td>...</td>\n",
       "      <td>91</td>\n",
       "      <td>91</td>\n",
       "      <td>91</td>\n",
       "      <td>91</td>\n",
       "      <td>91</td>\n",
       "      <td>91</td>\n",
       "      <td>102</td>\n",
       "      <td>119</td>\n",
       "      <td>120</td>\n",
       "      <td>124</td>\n",
       "    </tr>\n",
       "  </tbody>\n",
       "</table>\n",
       "<p>5 rows × 51 columns</p>\n",
       "</div>"
      ],
      "text/plain": [
       "  Province/State  Country/Region      Lat      Long  1/22/20  1/23/20  \\\n",
       "0          Anhui  Mainland China  31.8257  117.2264        1        9   \n",
       "1        Beijing  Mainland China  40.1824  116.4142       14       22   \n",
       "2      Chongqing  Mainland China  30.0572  107.8740        6        9   \n",
       "3         Fujian  Mainland China  26.0789  117.9874        1        5   \n",
       "4          Gansu  Mainland China  36.0611  103.8343        0        2   \n",
       "\n",
       "   1/24/20  1/25/20  1/26/20  1/27/20  ...  2/28/20  2/29/20  3/1/20  3/2/20  \\\n",
       "0       15       39       60       70  ...      990      990     990     990   \n",
       "1       36       41       68       80  ...      410      411     413     414   \n",
       "2       27       57       75      110  ...      576      576     576     576   \n",
       "3       10       18       35       59  ...      296      296     296     296   \n",
       "4        2        4        7       14  ...       91       91      91      91   \n",
       "\n",
       "   3/3/20  3/4/20  3/5/20  3/6/20  3/7/20  3/8/20  \n",
       "0     990     990     990     990     990     990  \n",
       "1     414     418     418     422     426     428  \n",
       "2     576     576     576     576     576     576  \n",
       "3     296     296     296     296     296     296  \n",
       "4      91      91     102     119     120     124  \n",
       "\n",
       "[5 rows x 51 columns]"
      ]
     },
     "execution_count": 1,
     "metadata": {},
     "output_type": "execute_result"
    }
   ],
   "source": [
    "import numpy as np\n",
    "import pandas as pd\n",
    "\n",
    "data = pd.read_csv(\"time_series_19-covid-Confirmed.csv\")\n",
    "print(data.shape)\n",
    "data.head()"
   ]
  },
  {
   "cell_type": "markdown",
   "metadata": {},
   "source": [
    "We can select only the wanted cases by choosing rows with \"Mainland China\" as its _Country/Region_ and performing a sum on the columns"
   ]
  },
  {
   "cell_type": "code",
   "execution_count": 2,
   "metadata": {},
   "outputs": [
    {
     "name": "stdout",
     "output_type": "stream",
     "text": [
      "China cases up to 08/03/2020: 80699\n",
      "Italy cases up to 08/03/2020: 7375\n"
     ]
    }
   ],
   "source": [
    "china_y = []\n",
    "italy_y = []\n",
    "\n",
    "for j in range(4, 51): #These are the dates - on columns\n",
    "    tempsum_china = 0\n",
    "    tempsum_italy = 0\n",
    "    for i in range(0, len(data)):\n",
    "        if data.iloc[i, 1] == \"Mainland China\": #Check if the country is china\n",
    "            tempsum_china = tempsum_china + data.iloc[i, j]\n",
    "        if data.iloc[i, 1] == \"Italy\": #Check if the country is Italy\n",
    "            tempsum_italy = tempsum_italy + data.iloc[i, j]\n",
    "    china_y.append(tempsum_china)\n",
    "    italy_y.append(tempsum_italy)\n",
    "print(\"China cases up to 08/03/2020: {}\".format(china_y[len(china_y) - 1]))\n",
    "print(\"Italy cases up to 08/03/2020: {}\".format(italy_y[len(italy_y) - 1]))"
   ]
  },
  {
   "cell_type": "markdown",
   "metadata": {},
   "source": [
    "We can now plot the 2 countries and see how they compare"
   ]
  },
  {
   "cell_type": "code",
   "execution_count": 3,
   "metadata": {},
   "outputs": [
    {
     "data": {
      "image/png": "[encoded data removed]",
      "text/plain": [
       "<Figure size 432x288 with 1 Axes>"
      ]
     },
     "metadata": {
      "needs_background": "light"
     },
     "output_type": "display_data"
    }
   ],
   "source": [
    "import matplotlib.pyplot as plt\n",
    "\n",
    "plt.ylabel(\"Confirmed Cases\")\n",
    "plt.xlabel(\"Days after 22/01/2020\")\n",
    "\n",
    "plt.plot(china_y, color='red', label='China')\n",
    "plt.plot(italy_y, color='green', label='Italy')\n",
    "plt.legend()\n",
    "plt.show()"
   ]
  },
  {
   "cell_type": "markdown",
   "metadata": {},
   "source": [
    "It is clear that China is in a way worse situation than Italy, but as _3blue1brown_ mentioned in his video, this is just a \"delay\". We will address this delay when making predictions in a later step. We can also observe that China's line is similar to a sigmoid/logistic curve."
   ]
  },
  {
   "cell_type": "markdown",
   "metadata": {},
   "source": [
    "### 2. Creating smoothed derivatives of the China cases and integrating them (hopefully, we will observe a logistic curve)"
   ]
  },
  {
   "cell_type": "markdown",
   "metadata": {},
   "source": [
    "First, we have to ask ourselves: why would we want to create and plot derivatives for this data? Well, if we think about how a logistic curve looks, the derivative of such a curve should look like a parabola, since the first half of a sigmoid function resembles an exponential curve. With such a curve, we can make predictions more easily, and then integrate it to get actual confirmed cases."
   ]
  },
  {
   "cell_type": "markdown",
   "metadata": {},
   "source": [
    "In order to create a smoothed derivative, we can use a [Savitzky-Golay filter](https://docs.scipy.org/doc/scipy-0.16.1/reference/generated/scipy.signal.savgol_filter.html) which is available in the _scipy_ library."
   ]
  },
  {
   "cell_type": "code",
   "execution_count": 4,
   "metadata": {},
   "outputs": [
    {
     "data": {
      "image/png": "[encoded data removed]",
      "text/plain": [
       "<Figure size 432x288 with 1 Axes>"
      ]
     },
     "metadata": {
      "needs_background": "light"
     },
     "output_type": "display_data"
    }
   ],
   "source": [
    "from scipy.signal import savgol_filter\n",
    "\n",
    "deriv_china = savgol_filter(china_y, 9, 2, 1) #Polynomial degree is 2 since the function should look like a parabola\n",
    "\n",
    "plt.ylabel(\"ΔConfirmed Cases\")\n",
    "\n",
    "plt.plot(deriv_china, color='red', label=\"China SD\")\n",
    "plt.legend()\n",
    "plt.show()"
   ]
  },
  {
   "cell_type": "markdown",
   "metadata": {},
   "source": [
    "This looks close to the desired result, but let's smooth the curve a little more."
   ]
  },
  {
   "cell_type": "code",
   "execution_count": 5,
   "metadata": {},
   "outputs": [
    {
     "data": {
      "image/png": "[encoded data removed]",
      "text/plain": [
       "<Figure size 432x288 with 1 Axes>"
      ]
     },
     "metadata": {
      "needs_background": "light"
     },
     "output_type": "display_data"
    }
   ],
   "source": [
    "from scipy.signal import savgol_filter\n",
    "\n",
    "deriv_china = savgol_filter(china_y, int(len(china_y)/3), 2, 1) #Polynomial degree is 2 since the function should look like a parabola\n",
    "deriv_china = savgol_filter(deriv_china, int(len(china_y)/5), 2, 0)\n",
    "\n",
    "plt.ylabel(\"ΔConfirmed Cases\")\n",
    "\n",
    "plt.plot(deriv_china, color='red', label=\"China SD\")\n",
    "plt.legend()\n",
    "plt.show()"
   ]
  },
  {
   "cell_type": "markdown",
   "metadata": {},
   "source": [
    "Great! Now we can integrate this function and compare it to actual cases, and it should be a good fit."
   ]
  },
  {
   "cell_type": "code",
   "execution_count": 6,
   "metadata": {},
   "outputs": [
    {
     "data": {
      "image/png": "[encoded data removed]",
      "text/plain": [
       "<Figure size 432x288 with 1 Axes>"
      ]
     },
     "metadata": {
      "needs_background": "light"
     },
     "output_type": "display_data"
    }
   ],
   "source": [
    "from scipy import integrate\n",
    "\n",
    "china_y_pred = integrate.cumtrapz(deriv_china) \n",
    "\n",
    "plt.ylabel(\"Confirmed Cases\")\n",
    "\n",
    "plt.plot(china_y, color='red', label=\"China Actual\")\n",
    "plt.plot(china_y_pred, color='blue', label='China Model')\n",
    "plt.legend()\n",
    "plt.show()"
   ]
  },
  {
   "cell_type": "markdown",
   "metadata": {},
   "source": [
    "The model is not perfect, but it should be good enough for estimations and predictions (± 2000 cases)."
   ]
  },
  {
   "cell_type": "markdown",
   "metadata": {},
   "source": [
    "### 3. Finding \"delay\" of Italy cases and plotting the matching derivative curves."
   ]
  },
  {
   "cell_type": "markdown",
   "metadata": {},
   "source": [
    "Italy took emergency measures yesterday, when cases started rising rapidly. If we are looking at China's data, this means Italy is now at the start of the logistic curve (or the start of the parabola on the derivative). We can try to remove the days with low activity from the Italy data and match it with China's data."
   ]
  },
  {
   "cell_type": "code",
   "execution_count": 7,
   "metadata": {},
   "outputs": [
    {
     "data": {
      "image/png": "[encoded data removed]",
      "text/plain": [
       "<Figure size 432x288 with 1 Axes>"
      ]
     },
     "metadata": {
      "needs_background": "light"
     },
     "output_type": "display_data"
    }
   ],
   "source": [
    "italy_y = italy_y[39:]\n",
    "deriv_italy = savgol_filter(italy_y, 5, 2, 1)\n",
    "deriv_italy = savgol_filter(deriv_italy, 3, 2, 0)\n",
    "\n",
    "plt.plot(china_y, color='red', label='China')\n",
    "plt.plot(china_y_pred, color='blue', label=\"China Model\")\n",
    "plt.plot(italy_y, color='green', label='Italy')\n",
    "plt.legend()\n",
    "plt.show()"
   ]
  },
  {
   "cell_type": "markdown",
   "metadata": {},
   "source": [
    "It is clear that Italy is starting to follow China's trend. Let's also plot and compare the derivative plots"
   ]
  },
  {
   "cell_type": "code",
   "execution_count": 8,
   "metadata": {
    "scrolled": true
   },
   "outputs": [
    {
     "data": {
      "image/png": "[encoded data removed]",
      "text/plain": [
       "<Figure size 432x288 with 1 Axes>"
      ]
     },
     "metadata": {
      "needs_background": "light"
     },
     "output_type": "display_data"
    }
   ],
   "source": [
    "plt.ylabel(\"ΔConfirmed Cases\")\n",
    "\n",
    "plt.plot(deriv_china, color='red', label='China SD')\n",
    "plt.plot(deriv_italy, color='green', label='Italy SD')\n",
    "plt.legend()\n",
    "plt.show()"
   ]
  },
  {
   "cell_type": "markdown",
   "metadata": {},
   "source": [
    "### 4. Create a basic prediction for the Italy cases.\n",
    "\n",
    "We now have to create a basic prediction model for the Italy cases. We do not have enough data to create a very accurate model, so we are going to use a different method. First, we will create this basic model which will closely resemble China's cases. Obviously, things will be different in Italy, that's why we will fine-tune the model in a later step."
   ]
  },
  {
   "cell_type": "markdown",
   "metadata": {},
   "source": [
    "In order to create a basic model we can further smooth the curve and shift it to match the already known Italy data."
   ]
  },
  {
   "cell_type": "code",
   "execution_count": 9,
   "metadata": {},
   "outputs": [
    {
     "data": {
      "image/png": "[encoded data removed]",
      "text/plain": [
       "<Figure size 432x288 with 1 Axes>"
      ]
     },
     "metadata": {
      "needs_background": "light"
     },
     "output_type": "display_data"
    }
   ],
   "source": [
    "italy_derv_model = np.roll(deriv_china, 1)\n",
    "italy_derv_model = savgol_filter(italy_derv_model, 17, 2, 0)\n",
    "italy_basic_model= []\n",
    "for i in range(8):\n",
    "    italy_basic_model.append(deriv_italy[i])\n",
    "\n",
    "for i in range(8, len(italy_derv_model)):\n",
    "    italy_basic_model.append(italy_derv_model[i])\n",
    "\n",
    "plt.ylabel(\"ΔConfirmed Cases\")\n",
    "\n",
    "plt.plot(deriv_china, color='red', label=\"China SD\")\n",
    "plt.plot(italy_basic_model, color='green', label='Italy Model SD')\n",
    "plt.legend()\n",
    "plt.show()"
   ]
  },
  {
   "cell_type": "markdown",
   "metadata": {},
   "source": [
    "This is the basic model we have created for Italy. It is very simillar to China's. Let's see how Italy's cases would compare to China's cases (if this simple model would be accurate). Keep in mind, there is still that \"delay\", so Italy's is just at the start of the following graph:"
   ]
  },
  {
   "cell_type": "code",
   "execution_count": 10,
   "metadata": {},
   "outputs": [
    {
     "data": {
      "image/png": "[encoded data removed]",
      "text/plain": [
       "<Figure size 432x288 with 1 Axes>"
      ]
     },
     "metadata": {
      "needs_background": "light"
     },
     "output_type": "display_data"
    }
   ],
   "source": [
    "italy_basic_model_confirmed = integrate.cumtrapz(italy_basic_model)\n",
    "\n",
    "plt.ylabel(\"Confirmed Cases\")\n",
    "\n",
    "plt.plot(china_y, color='red', label='China Confirmed')\n",
    "plt.plot(italy_basic_model_confirmed, color='blue', label='Italy Model')\n",
    "plt.plot(italy_y, color='green', label='Italy Confirmed')\n",
    "plt.legend()\n",
    "plt.show()"
   ]
  },
  {
   "cell_type": "markdown",
   "metadata": {},
   "source": [
    "Italy took emergency measures yesterday, 8th of March, right at the beginning of the logistic curve. [Source](http://www.governo.it/it/articolo/coronavirus-firmato-il-dpcm-8-marzo-2020/14266)\n",
    "\n",
    "China took emergency measures on 24th of January. [Source](https://www.sixthtone.com/news/1005135/shanghai-launches-level-1-emergency-response-over-coronavirus)\n",
    "\n",
    "If we consider the delay, China and Italy both took the emergency measures right at the beginning of the logistic curve. I approximated the delay to be around **38 days** by matching and fitting the graphs. The difference in days between the emergency measures is **44**. This actually means that China took emergency measures about a week sooner than Italy considering their state at that current time.\n",
    "\n",
    "This means that the Italy outbreak should be more critical, but other factors need to be accounted for, like drug trails for cures or extra preventive measures."
   ]
  },
  {
   "cell_type": "markdown",
   "metadata": {},
   "source": [
    "### 5. Results and Predictions\n",
    "\n",
    "We can now use the model we have created for future predictions. Remember, these may not be accurate at all, especially when taking in consideration emergency measures, but if it follows China's path, the results are going to be pretty accurate (without taking in consideration population)."
   ]
  },
  {
   "cell_type": "code",
   "execution_count": 11,
   "metadata": {},
   "outputs": [
    {
     "data": {
      "text/html": [
       "<div>\n",
       "<style scoped>\n",
       "    .dataframe tbody tr th:only-of-type {\n",
       "        vertical-align: middle;\n",
       "    }\n",
       "\n",
       "    .dataframe tbody tr th {\n",
       "        vertical-align: top;\n",
       "    }\n",
       "\n",
       "    .dataframe thead th {\n",
       "        text-align: right;\n",
       "    }\n",
       "</style>\n",
       "<table border=\"1\" class=\"dataframe\">\n",
       "  <thead>\n",
       "    <tr style=\"text-align: right;\">\n",
       "      <th></th>\n",
       "      <th>Date</th>\n",
       "      <th>Predicted Cases</th>\n",
       "    </tr>\n",
       "  </thead>\n",
       "  <tbody>\n",
       "    <tr>\n",
       "      <th>0</th>\n",
       "      <td>2020-03-09</td>\n",
       "      <td>9424.44</td>\n",
       "    </tr>\n",
       "    <tr>\n",
       "      <th>1</th>\n",
       "      <td>2020-03-10</td>\n",
       "      <td>11668.5</td>\n",
       "    </tr>\n",
       "    <tr>\n",
       "      <th>2</th>\n",
       "      <td>2020-03-11</td>\n",
       "      <td>14141.6</td>\n",
       "    </tr>\n",
       "    <tr>\n",
       "      <th>3</th>\n",
       "      <td>2020-03-12</td>\n",
       "      <td>16826.3</td>\n",
       "    </tr>\n",
       "    <tr>\n",
       "      <th>4</th>\n",
       "      <td>2020-03-13</td>\n",
       "      <td>19709.6</td>\n",
       "    </tr>\n",
       "    <tr>\n",
       "      <th>5</th>\n",
       "      <td>2020-03-14</td>\n",
       "      <td>22778.6</td>\n",
       "    </tr>\n",
       "    <tr>\n",
       "      <th>6</th>\n",
       "      <td>2020-03-15</td>\n",
       "      <td>26019.3</td>\n",
       "    </tr>\n",
       "    <tr>\n",
       "      <th>7</th>\n",
       "      <td>2020-03-16</td>\n",
       "      <td>29416.3</td>\n",
       "    </tr>\n",
       "    <tr>\n",
       "      <th>8</th>\n",
       "      <td>2020-03-17</td>\n",
       "      <td>32952.3</td>\n",
       "    </tr>\n",
       "    <tr>\n",
       "      <th>9</th>\n",
       "      <td>2020-03-18</td>\n",
       "      <td>36606.2</td>\n",
       "    </tr>\n",
       "    <tr>\n",
       "      <th>10</th>\n",
       "      <td>2020-03-19</td>\n",
       "      <td>40353.7</td>\n",
       "    </tr>\n",
       "    <tr>\n",
       "      <th>11</th>\n",
       "      <td>2020-03-20</td>\n",
       "      <td>44165.4</td>\n",
       "    </tr>\n",
       "    <tr>\n",
       "      <th>12</th>\n",
       "      <td>2020-03-21</td>\n",
       "      <td>47999.7</td>\n",
       "    </tr>\n",
       "    <tr>\n",
       "      <th>13</th>\n",
       "      <td>2020-03-22</td>\n",
       "      <td>51798.2</td>\n",
       "    </tr>\n",
       "    <tr>\n",
       "      <th>14</th>\n",
       "      <td>2020-03-23</td>\n",
       "      <td>55489.9</td>\n",
       "    </tr>\n",
       "    <tr>\n",
       "      <th>15</th>\n",
       "      <td>2020-03-24</td>\n",
       "      <td>58998.3</td>\n",
       "    </tr>\n",
       "    <tr>\n",
       "      <th>16</th>\n",
       "      <td>2020-03-25</td>\n",
       "      <td>62250.7</td>\n",
       "    </tr>\n",
       "    <tr>\n",
       "      <th>17</th>\n",
       "      <td>2020-03-26</td>\n",
       "      <td>65187.1</td>\n",
       "    </tr>\n",
       "    <tr>\n",
       "      <th>18</th>\n",
       "      <td>2020-03-27</td>\n",
       "      <td>67769.4</td>\n",
       "    </tr>\n",
       "    <tr>\n",
       "      <th>19</th>\n",
       "      <td>2020-03-28</td>\n",
       "      <td>69984.2</td>\n",
       "    </tr>\n",
       "    <tr>\n",
       "      <th>20</th>\n",
       "      <td>2020-03-29</td>\n",
       "      <td>71836.7</td>\n",
       "    </tr>\n",
       "    <tr>\n",
       "      <th>21</th>\n",
       "      <td>2020-03-30</td>\n",
       "      <td>73346.6</td>\n",
       "    </tr>\n",
       "    <tr>\n",
       "      <th>22</th>\n",
       "      <td>2020-03-31</td>\n",
       "      <td>74546.4</td>\n",
       "    </tr>\n",
       "    <tr>\n",
       "      <th>23</th>\n",
       "      <td>2020-04-01</td>\n",
       "      <td>75479.4</td>\n",
       "    </tr>\n",
       "    <tr>\n",
       "      <th>24</th>\n",
       "      <td>2020-04-02</td>\n",
       "      <td>76195.5</td>\n",
       "    </tr>\n",
       "    <tr>\n",
       "      <th>25</th>\n",
       "      <td>2020-04-03</td>\n",
       "      <td>76747.3</td>\n",
       "    </tr>\n",
       "    <tr>\n",
       "      <th>26</th>\n",
       "      <td>2020-04-04</td>\n",
       "      <td>77186.4</td>\n",
       "    </tr>\n",
       "    <tr>\n",
       "      <th>27</th>\n",
       "      <td>2020-04-05</td>\n",
       "      <td>77557.5</td>\n",
       "    </tr>\n",
       "    <tr>\n",
       "      <th>28</th>\n",
       "      <td>2020-04-06</td>\n",
       "      <td>77892.1</td>\n",
       "    </tr>\n",
       "    <tr>\n",
       "      <th>29</th>\n",
       "      <td>2020-04-07</td>\n",
       "      <td>78207.2</td>\n",
       "    </tr>\n",
       "    <tr>\n",
       "      <th>30</th>\n",
       "      <td>2020-04-08</td>\n",
       "      <td>78491.4</td>\n",
       "    </tr>\n",
       "    <tr>\n",
       "      <th>31</th>\n",
       "      <td>2020-04-09</td>\n",
       "      <td>78731.9</td>\n",
       "    </tr>\n",
       "    <tr>\n",
       "      <th>32</th>\n",
       "      <td>2020-04-10</td>\n",
       "      <td>78936.9</td>\n",
       "    </tr>\n",
       "    <tr>\n",
       "      <th>33</th>\n",
       "      <td>2020-04-11</td>\n",
       "      <td>79114.2</td>\n",
       "    </tr>\n",
       "    <tr>\n",
       "      <th>34</th>\n",
       "      <td>2020-04-12</td>\n",
       "      <td>79271.8</td>\n",
       "    </tr>\n",
       "    <tr>\n",
       "      <th>35</th>\n",
       "      <td>2020-04-13</td>\n",
       "      <td>79417.7</td>\n",
       "    </tr>\n",
       "    <tr>\n",
       "      <th>36</th>\n",
       "      <td>2020-04-14</td>\n",
       "      <td>79559.9</td>\n",
       "    </tr>\n",
       "    <tr>\n",
       "      <th>37</th>\n",
       "      <td>2020-04-15</td>\n",
       "      <td>79706.4</td>\n",
       "    </tr>\n",
       "  </tbody>\n",
       "</table>\n",
       "</div>"
      ],
      "text/plain": [
       "          Date Predicted Cases\n",
       "0   2020-03-09         9424.44\n",
       "1   2020-03-10         11668.5\n",
       "2   2020-03-11         14141.6\n",
       "3   2020-03-12         16826.3\n",
       "4   2020-03-13         19709.6\n",
       "5   2020-03-14         22778.6\n",
       "6   2020-03-15         26019.3\n",
       "7   2020-03-16         29416.3\n",
       "8   2020-03-17         32952.3\n",
       "9   2020-03-18         36606.2\n",
       "10  2020-03-19         40353.7\n",
       "11  2020-03-20         44165.4\n",
       "12  2020-03-21         47999.7\n",
       "13  2020-03-22         51798.2\n",
       "14  2020-03-23         55489.9\n",
       "15  2020-03-24         58998.3\n",
       "16  2020-03-25         62250.7\n",
       "17  2020-03-26         65187.1\n",
       "18  2020-03-27         67769.4\n",
       "19  2020-03-28         69984.2\n",
       "20  2020-03-29         71836.7\n",
       "21  2020-03-30         73346.6\n",
       "22  2020-03-31         74546.4\n",
       "23  2020-04-01         75479.4\n",
       "24  2020-04-02         76195.5\n",
       "25  2020-04-03         76747.3\n",
       "26  2020-04-04         77186.4\n",
       "27  2020-04-05         77557.5\n",
       "28  2020-04-06         77892.1\n",
       "29  2020-04-07         78207.2\n",
       "30  2020-04-08         78491.4\n",
       "31  2020-04-09         78731.9\n",
       "32  2020-04-10         78936.9\n",
       "33  2020-04-11         79114.2\n",
       "34  2020-04-12         79271.8\n",
       "35  2020-04-13         79417.7\n",
       "36  2020-04-14         79559.9\n",
       "37  2020-04-15         79706.4"
      ]
     },
     "execution_count": 11,
     "metadata": {},
     "output_type": "execute_result"
    }
   ],
   "source": [
    "import time\n",
    "\n",
    "predictions = pd.DataFrame(columns = [\"Date\", \"Predicted Cases\"])\n",
    "\n",
    "#index 8 in italy_basic_model_confirmed is 9th of March 2020\n",
    "start_pred = 1583712000\n",
    "for i in range(8, len(italy_basic_model_confirmed)):\n",
    "    t = time.strftime('%Y-%m-%d', time.localtime(start_pred))\n",
    "    pred = italy_basic_model_confirmed[i]\n",
    "    predictions.at[i-8, \"Date\"] = t\n",
    "    predictions.at[i-8, \"Predicted Cases\"] = pred\n",
    "    start_pred = start_pred + 24*60*60\n",
    "    \n",
    "predictions"
   ]
  },
  {
   "cell_type": "markdown",
   "metadata": {},
   "source": [
    "## Conclusion\n",
    "\n",
    "These predictions are not confirmed to be accurate. This was more of an excersie, but it was an interesting way to observe epidemics and how they follow mathematic models.\n",
    "\n",
    "I might follow the evolution of the coronavirus in Italy for the next few days and update my model or predictions."
   ]
  }
 ],
 "metadata": {
  "kernelspec": {
   "display_name": "Python 3",
   "language": "python",
   "name": "python3"
  },
  "language_info": {
   "codemirror_mode": {
    "name": "ipython",
    "version": 3
   },
   "file_extension": ".py",
   "mimetype": "text/x-python",
   "name": "python",
   "nbconvert_exporter": "python",
   "pygments_lexer": "ipython3",
   "version": "3.6.9"
  }
 },
 "nbformat": 4,
 "nbformat_minor": 2
}
